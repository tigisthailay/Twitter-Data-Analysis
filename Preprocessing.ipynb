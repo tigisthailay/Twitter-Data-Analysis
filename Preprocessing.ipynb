{
 "cells": [
  {
   "cell_type": "markdown",
   "id": "57b3372e",
   "metadata": {},
   "source": [
    "## Data exploration and pre-processing\n",
    "Basically, for any data analysis or machine learning project the following has to be conducted\n",
    "- Data gtahering \n",
    "- Data assessing \n",
    "- Data ceaning "
   ]
  },
  {
   "cell_type": "markdown",
   "id": "c0b05ca8",
   "metadata": {},
   "source": [
    "## Data gathering has been allready done"
   ]
  },
  {
   "cell_type": "markdown",
   "id": "af3b01b3",
   "metadata": {},
   "source": [
    "## Data assessing \n",
    "- Assessing is the second and it is assessed to inspect data for two things:\n",
    " - **Data quality issues**: Data that has quality issues have issues with content like missing, duplicate, or incorrect data. \n",
    " - **Lack of tidiness**: Data that has specific structural issues\n",
    "\n",
    "You can search for these issues in two ways:\n",
    "- Visually by scrolling\n",
    "- Programmatically using code"
   ]
  },
  {
   "cell_type": "markdown",
   "id": "7afee765",
   "metadata": {},
   "source": [
    "for this project I used programmatic Assessment using the following methods \n",
    "- .head (DataFrame and Series)\n",
    "- .tail (DataFrame and Series)\n",
    "- .sample (DataFrame and Series)\n",
    "- .info (DataFrame only)\n",
    "- .describe (DataFrame and Series)\n",
    "- and other\n",
    "\n",
    "### some methods associated with quality issue\n",
    "- .value_counts \n",
    "- .duplicates \n",
    "- .sort_values \n",
    "- sum of .isnull "
   ]
  },
  {
   "cell_type": "code",
   "execution_count": 1,
   "id": "b7f6bfb2",
   "metadata": {},
   "outputs": [],
   "source": [
    "# loding liberaries\n",
    "import matplotlib.pyplot as plt\n",
    "import pandas as pd\n",
    "%matplotlib inline"
   ]
  },
  {
   "cell_type": "code",
   "execution_count": 36,
   "id": "624208a3",
   "metadata": {},
   "outputs": [],
   "source": [
    "df = pd.read_csv('data/clean_processed_data.csv')"
   ]
  },
  {
   "cell_type": "code",
   "execution_count": 21,
   "id": "4b74044c",
   "metadata": {
    "scrolled": true
   },
   "outputs": [
    {
     "data": {
      "text/html": [
       "<div>\n",
       "<style scoped>\n",
       "    .dataframe tbody tr th:only-of-type {\n",
       "        vertical-align: middle;\n",
       "    }\n",
       "\n",
       "    .dataframe tbody tr th {\n",
       "        vertical-align: top;\n",
       "    }\n",
       "\n",
       "    .dataframe thead th {\n",
       "        text-align: right;\n",
       "    }\n",
       "</style>\n",
       "<table border=\"1\" class=\"dataframe\">\n",
       "  <thead>\n",
       "    <tr style=\"text-align: right;\">\n",
       "      <th></th>\n",
       "      <th>created_at</th>\n",
       "      <th>source</th>\n",
       "      <th>original_text</th>\n",
       "      <th>subjectivity</th>\n",
       "      <th>polarity</th>\n",
       "      <th>lang</th>\n",
       "      <th>favorite_count</th>\n",
       "      <th>retweet_count</th>\n",
       "      <th>original_author</th>\n",
       "      <th>followers_count</th>\n",
       "      <th>friends_count</th>\n",
       "      <th>possibly_sensitive</th>\n",
       "      <th>hashtags</th>\n",
       "      <th>user_mentions</th>\n",
       "      <th>place</th>\n",
       "    </tr>\n",
       "  </thead>\n",
       "  <tbody>\n",
       "    <tr>\n",
       "      <th>0</th>\n",
       "      <td>Sun Aug 07 22:31:20 +0000 2022</td>\n",
       "      <td>&lt;a href=\"http://twitter.com/download/android\" ...</td>\n",
       "      <td>RT @i_ameztoy: Extra random image (I):\\n\\nLets...</td>\n",
       "      <td>0.190625</td>\n",
       "      <td>-0.125</td>\n",
       "      <td>en</td>\n",
       "      <td>4</td>\n",
       "      <td>2</td>\n",
       "      <td>i_ameztoy</td>\n",
       "      <td>20497</td>\n",
       "      <td>2621</td>\n",
       "      <td>NaN</td>\n",
       "      <td>City</td>\n",
       "      <td>i_ameztoy</td>\n",
       "      <td>NaN</td>\n",
       "    </tr>\n",
       "    <tr>\n",
       "      <th>1</th>\n",
       "      <td>Sun Aug 07 22:31:16 +0000 2022</td>\n",
       "      <td>&lt;a href=\"http://twitter.com/download/android\" ...</td>\n",
       "      <td>RT @IndoPac_Info: #China's media explains the ...</td>\n",
       "      <td>0.100000</td>\n",
       "      <td>-0.100</td>\n",
       "      <td>en</td>\n",
       "      <td>691</td>\n",
       "      <td>201</td>\n",
       "      <td>ZIisq</td>\n",
       "      <td>65</td>\n",
       "      <td>272</td>\n",
       "      <td>NaN</td>\n",
       "      <td>China, Taiwan</td>\n",
       "      <td>IndoPac_Info</td>\n",
       "      <td>NaN</td>\n",
       "    </tr>\n",
       "  </tbody>\n",
       "</table>\n",
       "</div>"
      ],
      "text/plain": [
       "                       created_at  \\\n",
       "0  Sun Aug 07 22:31:20 +0000 2022   \n",
       "1  Sun Aug 07 22:31:16 +0000 2022   \n",
       "\n",
       "                                              source  \\\n",
       "0  <a href=\"http://twitter.com/download/android\" ...   \n",
       "1  <a href=\"http://twitter.com/download/android\" ...   \n",
       "\n",
       "                                       original_text  subjectivity  polarity  \\\n",
       "0  RT @i_ameztoy: Extra random image (I):\\n\\nLets...      0.190625    -0.125   \n",
       "1  RT @IndoPac_Info: #China's media explains the ...      0.100000    -0.100   \n",
       "\n",
       "  lang  favorite_count  retweet_count original_author  followers_count  \\\n",
       "0   en               4              2       i_ameztoy            20497   \n",
       "1   en             691            201           ZIisq               65   \n",
       "\n",
       "   friends_count possibly_sensitive       hashtags user_mentions place  \n",
       "0           2621                NaN           City     i_ameztoy   NaN  \n",
       "1            272                NaN  China, Taiwan  IndoPac_Info   NaN  "
      ]
     },
     "execution_count": 21,
     "metadata": {},
     "output_type": "execute_result"
    }
   ],
   "source": [
    "df.head(2)"
   ]
  },
  {
   "cell_type": "code",
   "execution_count": 22,
   "id": "6cb04eba",
   "metadata": {},
   "outputs": [
    {
     "data": {
      "text/plain": [
       "(21997, 15)"
      ]
     },
     "execution_count": 22,
     "metadata": {},
     "output_type": "execute_result"
    }
   ],
   "source": [
    "# shape info\n",
    "df.shape"
   ]
  },
  {
   "cell_type": "code",
   "execution_count": 5,
   "id": "1c1b3902",
   "metadata": {
    "scrolled": true
   },
   "outputs": [
    {
     "name": "stdout",
     "output_type": "stream",
     "text": [
      "<class 'pandas.core.frame.DataFrame'>\n",
      "RangeIndex: 21997 entries, 0 to 21996\n",
      "Data columns (total 15 columns):\n",
      " #   Column              Non-Null Count  Dtype  \n",
      "---  ------              --------------  -----  \n",
      " 0   created_at          21997 non-null  object \n",
      " 1   source              21997 non-null  object \n",
      " 2   original_text       21997 non-null  object \n",
      " 3   subjectivity        21997 non-null  float64\n",
      " 4   polarity            21997 non-null  float64\n",
      " 5   lang                21997 non-null  object \n",
      " 6   favorite_count      21997 non-null  int64  \n",
      " 7   retweet_count       21997 non-null  int64  \n",
      " 8   original_author     21997 non-null  object \n",
      " 9   followers_count     21997 non-null  int64  \n",
      " 10  friends_count       21997 non-null  int64  \n",
      " 11  possibly_sensitive  6190 non-null   object \n",
      " 12  hashtags            19138 non-null  object \n",
      " 13  user_mentions       18695 non-null  object \n",
      " 14  place               12106 non-null  object \n",
      "dtypes: float64(2), int64(4), object(9)\n",
      "memory usage: 2.5+ MB\n"
     ]
    }
   ],
   "source": [
    "# checking against null value\n",
    "df.info()"
   ]
  },
  {
   "cell_type": "code",
   "execution_count": 23,
   "id": "ba345366",
   "metadata": {
    "scrolled": true
   },
   "outputs": [
    {
     "data": {
      "text/html": [
       "<div>\n",
       "<style scoped>\n",
       "    .dataframe tbody tr th:only-of-type {\n",
       "        vertical-align: middle;\n",
       "    }\n",
       "\n",
       "    .dataframe tbody tr th {\n",
       "        vertical-align: top;\n",
       "    }\n",
       "\n",
       "    .dataframe thead th {\n",
       "        text-align: right;\n",
       "    }\n",
       "</style>\n",
       "<table border=\"1\" class=\"dataframe\">\n",
       "  <thead>\n",
       "    <tr style=\"text-align: right;\">\n",
       "      <th></th>\n",
       "      <th>subjectivity</th>\n",
       "      <th>polarity</th>\n",
       "      <th>favorite_count</th>\n",
       "      <th>retweet_count</th>\n",
       "      <th>followers_count</th>\n",
       "      <th>friends_count</th>\n",
       "    </tr>\n",
       "  </thead>\n",
       "  <tbody>\n",
       "    <tr>\n",
       "      <th>count</th>\n",
       "      <td>21997.000000</td>\n",
       "      <td>21997.000000</td>\n",
       "      <td>21997.000000</td>\n",
       "      <td>21997.000000</td>\n",
       "      <td>2.199700e+04</td>\n",
       "      <td>21997.000000</td>\n",
       "    </tr>\n",
       "    <tr>\n",
       "      <th>mean</th>\n",
       "      <td>0.283878</td>\n",
       "      <td>0.061334</td>\n",
       "      <td>852.241033</td>\n",
       "      <td>176.768241</td>\n",
       "      <td>1.796985e+04</td>\n",
       "      <td>1563.237305</td>\n",
       "    </tr>\n",
       "    <tr>\n",
       "      <th>std</th>\n",
       "      <td>0.290964</td>\n",
       "      <td>0.223716</td>\n",
       "      <td>3106.276392</td>\n",
       "      <td>498.466921</td>\n",
       "      <td>3.030684e+05</td>\n",
       "      <td>4358.923487</td>\n",
       "    </tr>\n",
       "    <tr>\n",
       "      <th>min</th>\n",
       "      <td>0.000000</td>\n",
       "      <td>-1.000000</td>\n",
       "      <td>0.000000</td>\n",
       "      <td>0.000000</td>\n",
       "      <td>0.000000e+00</td>\n",
       "      <td>0.000000</td>\n",
       "    </tr>\n",
       "    <tr>\n",
       "      <th>25%</th>\n",
       "      <td>0.000000</td>\n",
       "      <td>0.000000</td>\n",
       "      <td>2.000000</td>\n",
       "      <td>2.000000</td>\n",
       "      <td>5.700000e+01</td>\n",
       "      <td>137.000000</td>\n",
       "    </tr>\n",
       "    <tr>\n",
       "      <th>50%</th>\n",
       "      <td>0.200000</td>\n",
       "      <td>0.000000</td>\n",
       "      <td>115.000000</td>\n",
       "      <td>38.000000</td>\n",
       "      <td>2.840000e+02</td>\n",
       "      <td>487.000000</td>\n",
       "    </tr>\n",
       "    <tr>\n",
       "      <th>75%</th>\n",
       "      <td>0.469048</td>\n",
       "      <td>0.133333</td>\n",
       "      <td>655.000000</td>\n",
       "      <td>187.000000</td>\n",
       "      <td>1.324000e+03</td>\n",
       "      <td>1599.000000</td>\n",
       "    </tr>\n",
       "    <tr>\n",
       "      <th>max</th>\n",
       "      <td>1.000000</td>\n",
       "      <td>1.000000</td>\n",
       "      <td>65170.000000</td>\n",
       "      <td>17409.000000</td>\n",
       "      <td>1.449852e+07</td>\n",
       "      <td>208360.000000</td>\n",
       "    </tr>\n",
       "  </tbody>\n",
       "</table>\n",
       "</div>"
      ],
      "text/plain": [
       "       subjectivity      polarity  favorite_count  retweet_count  \\\n",
       "count  21997.000000  21997.000000    21997.000000   21997.000000   \n",
       "mean       0.283878      0.061334      852.241033     176.768241   \n",
       "std        0.290964      0.223716     3106.276392     498.466921   \n",
       "min        0.000000     -1.000000        0.000000       0.000000   \n",
       "25%        0.000000      0.000000        2.000000       2.000000   \n",
       "50%        0.200000      0.000000      115.000000      38.000000   \n",
       "75%        0.469048      0.133333      655.000000     187.000000   \n",
       "max        1.000000      1.000000    65170.000000   17409.000000   \n",
       "\n",
       "       followers_count  friends_count  \n",
       "count     2.199700e+04   21997.000000  \n",
       "mean      1.796985e+04    1563.237305  \n",
       "std       3.030684e+05    4358.923487  \n",
       "min       0.000000e+00       0.000000  \n",
       "25%       5.700000e+01     137.000000  \n",
       "50%       2.840000e+02     487.000000  \n",
       "75%       1.324000e+03    1599.000000  \n",
       "max       1.449852e+07  208360.000000  "
      ]
     },
     "execution_count": 23,
     "metadata": {},
     "output_type": "execute_result"
    }
   ],
   "source": [
    "# satitstical information \n",
    "df.describe()"
   ]
  },
  {
   "cell_type": "code",
   "execution_count": 37,
   "id": "e951ec90",
   "metadata": {},
   "outputs": [
    {
     "data": {
      "text/plain": [
       "4"
      ]
     },
     "execution_count": 37,
     "metadata": {},
     "output_type": "execute_result"
    }
   ],
   "source": [
    "# checking null\n",
    "df.isnull().any().sum()"
   ]
  },
  {
   "cell_type": "code",
   "execution_count": 38,
   "id": "f5fac818",
   "metadata": {},
   "outputs": [
    {
     "data": {
      "text/plain": [
       "0"
      ]
     },
     "execution_count": 38,
     "metadata": {},
     "output_type": "execute_result"
    }
   ],
   "source": [
    "#checking against duplicated observation\n",
    "df.duplicated().any().sum()"
   ]
  },
  {
   "cell_type": "code",
   "execution_count": 39,
   "id": "bb6ea457",
   "metadata": {
    "scrolled": true
   },
   "outputs": [
    {
     "data": {
      "text/plain": [
       " 0.000000    8982\n",
       "-0.100000     973\n",
       " 0.133333     782\n",
       " 0.050000     502\n",
       " 0.500000     502\n",
       "             ... \n",
       "-0.014773       1\n",
       " 0.478788       1\n",
       " 0.059375       1\n",
       " 0.010000       1\n",
       " 0.207143       1\n",
       "Name: polarity, Length: 829, dtype: int64"
      ]
     },
     "execution_count": 39,
     "metadata": {},
     "output_type": "execute_result"
    }
   ],
   "source": [
    "## unique value and ther number of appearance in decending orde\n",
    "df['polarity'].value_counts()"
   ]
  },
  {
   "cell_type": "code",
   "execution_count": 40,
   "id": "bc2e20af",
   "metadata": {},
   "outputs": [
    {
     "data": {
      "text/plain": [
       "829"
      ]
     },
     "execution_count": 40,
     "metadata": {},
     "output_type": "execute_result"
    }
   ],
   "source": [
    "# number of unique values\n",
    "df['polarity'].nunique()"
   ]
  },
  {
   "cell_type": "code",
   "execution_count": 28,
   "id": "1be80934",
   "metadata": {},
   "outputs": [
    {
     "data": {
      "text/plain": [
       "15122   -1.0\n",
       "2909    -1.0\n",
       "7448    -1.0\n",
       "15248   -1.0\n",
       "7920    -1.0\n",
       "        ... \n",
       "21693    1.0\n",
       "13630    1.0\n",
       "20442    1.0\n",
       "20140    1.0\n",
       "9778     1.0\n",
       "Name: polarity, Length: 21997, dtype: float64"
      ]
     },
     "execution_count": 28,
     "metadata": {},
     "output_type": "execute_result"
    }
   ],
   "source": [
    "df['polarity'].sort_values()"
   ]
  },
  {
   "cell_type": "code",
   "execution_count": 29,
   "id": "62ad0692",
   "metadata": {
    "scrolled": true
   },
   "outputs": [
    {
     "data": {
      "text/html": [
       "<div>\n",
       "<style scoped>\n",
       "    .dataframe tbody tr th:only-of-type {\n",
       "        vertical-align: middle;\n",
       "    }\n",
       "\n",
       "    .dataframe tbody tr th {\n",
       "        vertical-align: top;\n",
       "    }\n",
       "\n",
       "    .dataframe thead th {\n",
       "        text-align: right;\n",
       "    }\n",
       "</style>\n",
       "<table border=\"1\" class=\"dataframe\">\n",
       "  <thead>\n",
       "    <tr style=\"text-align: right;\">\n",
       "      <th></th>\n",
       "      <th>source</th>\n",
       "      <th>original_text</th>\n",
       "    </tr>\n",
       "  </thead>\n",
       "  <tbody>\n",
       "    <tr>\n",
       "      <th>0</th>\n",
       "      <td>&lt;a href=\"http://twitter.com/download/android\" ...</td>\n",
       "      <td>RT @i_ameztoy: Extra random image (I):\\n\\nLets...</td>\n",
       "    </tr>\n",
       "    <tr>\n",
       "      <th>1</th>\n",
       "      <td>&lt;a href=\"http://twitter.com/download/android\" ...</td>\n",
       "      <td>RT @IndoPac_Info: #China's media explains the ...</td>\n",
       "    </tr>\n",
       "    <tr>\n",
       "      <th>2</th>\n",
       "      <td>&lt;a href=\"http://twitter.com/download/android\" ...</td>\n",
       "      <td>China even cut off communication, they don't a...</td>\n",
       "    </tr>\n",
       "  </tbody>\n",
       "</table>\n",
       "</div>"
      ],
      "text/plain": [
       "                                              source  \\\n",
       "0  <a href=\"http://twitter.com/download/android\" ...   \n",
       "1  <a href=\"http://twitter.com/download/android\" ...   \n",
       "2  <a href=\"http://twitter.com/download/android\" ...   \n",
       "\n",
       "                                       original_text  \n",
       "0  RT @i_ameztoy: Extra random image (I):\\n\\nLets...  \n",
       "1  RT @IndoPac_Info: #China's media explains the ...  \n",
       "2  China even cut off communication, they don't a...  "
      ]
     },
     "execution_count": 29,
     "metadata": {},
     "output_type": "execute_result"
    }
   ],
   "source": [
    "#cheking source and orginal_text columns\n",
    "df[['source','original_text']].head(3)"
   ]
  },
  {
   "cell_type": "markdown",
   "id": "114468e8",
   "metadata": {},
   "source": [
    "### Result of the assesmement\n",
    "- Created_at datatype issue\n",
    "- missing vaues are there\n",
    "- the source and original text needs to be cleaned"
   ]
  },
  {
   "cell_type": "markdown",
   "id": "24b079b4",
   "metadata": {},
   "source": [
    "### Cleaning  \n",
    "it helps as to solve the following \n",
    "- duplicate data\n",
    "- missing data\n",
    "- inaccurate data\n",
    "- incomplete data"
   ]
  },
  {
   "cell_type": "code",
   "execution_count": 31,
   "id": "c4e9e1ca",
   "metadata": {},
   "outputs": [],
   "source": [
    "#df.head(1)"
   ]
  },
  {
   "cell_type": "code",
   "execution_count": 41,
   "id": "7edcd929",
   "metadata": {},
   "outputs": [],
   "source": [
    "# handling with missing values with drop method\n",
    "df.dropna(inplace = True)"
   ]
  },
  {
   "cell_type": "code",
   "execution_count": null,
   "id": "785b2be0",
   "metadata": {},
   "outputs": [],
   "source": [
    "df.head"
   ]
  },
  {
   "cell_type": "code",
   "execution_count": 42,
   "id": "65b2950b",
   "metadata": {},
   "outputs": [
    {
     "data": {
      "text/plain": [
       "0"
      ]
     },
     "execution_count": 42,
     "metadata": {},
     "output_type": "execute_result"
    }
   ],
   "source": [
    "# checking against missing value\n",
    "df.isnull().any().sum()"
   ]
  },
  {
   "cell_type": "code",
   "execution_count": 43,
   "id": "afcc2c1a",
   "metadata": {},
   "outputs": [],
   "source": [
    "# habdling created_at datatype\n",
    "df['created_at'] =pd.to_datetime(df['created_at'])"
   ]
  },
  {
   "cell_type": "code",
   "execution_count": 16,
   "id": "e7489a08",
   "metadata": {},
   "outputs": [
    {
     "data": {
      "text/plain": [
       "datetime64[ns, UTC]"
      ]
     },
     "execution_count": 16,
     "metadata": {},
     "output_type": "execute_result"
    }
   ],
   "source": [
    "#checking datatype\n",
    "df['created_at'].dtype"
   ]
  },
  {
   "cell_type": "code",
   "execution_count": 17,
   "id": "049bbedc",
   "metadata": {
    "scrolled": false
   },
   "outputs": [],
   "source": [
    "# handling the source and original text needs to be cleaned and creating new column\n"
   ]
  },
  {
   "cell_type": "code",
   "execution_count": 18,
   "id": "81e4d6ab",
   "metadata": {},
   "outputs": [],
   "source": [
    "#Method to find hashtags from tweets\n"
   ]
  },
  {
   "cell_type": "markdown",
   "id": "386215c2",
   "metadata": {},
   "source": [
    "### Visualization "
   ]
  },
  {
   "cell_type": "code",
   "execution_count": 19,
   "id": "b9037713",
   "metadata": {
    "scrolled": false
   },
   "outputs": [
    {
     "data": {
      "image/png": "[encoded data removed]",
      "text/plain": [
       "<Figure size 432x288 with 1 Axes>"
      ]
     },
     "metadata": {
      "needs_background": "light"
     },
     "output_type": "display_data"
    }
   ],
   "source": [
    "# the plority distribution\n",
    "df.polarity.hist();\n",
    "plt.title(\"Distribution of the polarity using histogram\", fontsize = 13, fontweight = 'bold');"
   ]
  },
  {
   "cell_type": "code",
   "execution_count": null,
   "id": "09ce40f5",
   "metadata": {},
   "outputs": [],
   "source": []
  },
  {
   "cell_type": "code",
   "execution_count": 20,
   "id": "5f15e921",
   "metadata": {
    "scrolled": false
   },
   "outputs": [
    {
     "data": {
      "image/png": "[encoded data removed]",
      "text/plain": [
       "<Figure size 432x288 with 1 Axes>"
      ]
     },
     "metadata": {
      "needs_background": "light"
     },
     "output_type": "display_data"
    }
   ],
   "source": [
    "# polarity vs favorite_count using scatter plot\n",
    "df.plot(x = 'polarity', y = 'favorite_count', kind = 'scatter')\n",
    "plt.title(\"Relationship between polarity and favorite count\", fontsize = 13, fontweight = 'bold');"
   ]
  },
  {
   "cell_type": "code",
   "execution_count": 21,
   "id": "fefc0267",
   "metadata": {
    "scrolled": true
   },
   "outputs": [
    {
     "data": {
      "image/png": "[encoded data removed]",
      "text/plain": [
       "<Figure size 432x288 with 1 Axes>"
      ]
     },
     "metadata": {
      "needs_background": "light"
     },
     "output_type": "display_data"
    }
   ],
   "source": [
    "# the distribution of subjectivity\n",
    "df.subjectivity.hist();\n",
    "plt.title(\"Distribution of the subjectivity using histogram\", fontsize = 8, fontweight = 'bold');"
   ]
  },
  {
   "cell_type": "code",
   "execution_count": null,
   "id": "34348c40",
   "metadata": {},
   "outputs": [],
   "source": []
  },
  {
   "cell_type": "markdown",
   "id": "b053a264",
   "metadata": {},
   "source": [
    "## Topic Modeling "
   ]
  },
  {
   "cell_type": "code",
   "execution_count": 1,
   "id": "8bb44b5c",
   "metadata": {},
   "outputs": [],
   "source": [
    "# inporting packages \n",
    "import warnings\n",
    "warnings.filterwarnings('ignore')\n",
    "import matplotlib.pyplot as plt\n",
    "import seaborn as sns\n",
    "import gensim\n",
    "from gensim.models import CoherenceModel\n",
    "from gensim import corpora\n",
    "import pandas as pd\n",
    "from pprint import pprint\n",
    "import string\n",
    "import os\n",
    "import re\n",
    "import emoji\n",
    "import nltk"
   ]
  },
  {
   "cell_type": "code",
   "execution_count": 23,
   "id": "1380a5e0",
   "metadata": {},
   "outputs": [],
   "source": [
    "#data loader class\n",
    "# class DataLoader:\n",
    "#   def __init__(self,dir_name,file_name):\n",
    "#     self.dir_name=dir_name\n",
    "#     self.file_name = file_name\n",
    "    \n",
    " \n",
    "#   def read_csv(self):\n",
    "#     os.chdir(self.dir_name)\n",
    "#     tweets_df=pd.read_csv(self.file_name)\n",
    "#     return tweets_df"
   ]
  },
  {
   "cell_type": "code",
   "execution_count": 24,
   "id": "3d9a5158",
   "metadata": {},
   "outputs": [],
   "source": [
    "#object creation\n",
    "#DataLoader_obj= df"
   ]
  },
  {
   "cell_type": "code",
   "execution_count": 44,
   "id": "3bb6e100",
   "metadata": {
    "scrolled": true
   },
   "outputs": [
    {
     "data": {
      "text/html": [
       "<div>\n",
       "<style scoped>\n",
       "    .dataframe tbody tr th:only-of-type {\n",
       "        vertical-align: middle;\n",
       "    }\n",
       "\n",
       "    .dataframe tbody tr th {\n",
       "        vertical-align: top;\n",
       "    }\n",
       "\n",
       "    .dataframe thead th {\n",
       "        text-align: right;\n",
       "    }\n",
       "</style>\n",
       "<table border=\"1\" class=\"dataframe\">\n",
       "  <thead>\n",
       "    <tr style=\"text-align: right;\">\n",
       "      <th></th>\n",
       "      <th>created_at</th>\n",
       "      <th>source</th>\n",
       "      <th>original_text</th>\n",
       "      <th>subjectivity</th>\n",
       "      <th>polarity</th>\n",
       "      <th>lang</th>\n",
       "      <th>favorite_count</th>\n",
       "      <th>retweet_count</th>\n",
       "      <th>original_author</th>\n",
       "      <th>followers_count</th>\n",
       "      <th>friends_count</th>\n",
       "      <th>possibly_sensitive</th>\n",
       "      <th>hashtags</th>\n",
       "      <th>user_mentions</th>\n",
       "      <th>place</th>\n",
       "    </tr>\n",
       "  </thead>\n",
       "  <tbody>\n",
       "    <tr>\n",
       "      <th>5</th>\n",
       "      <td>2022-08-07 22:31:02+00:00</td>\n",
       "      <td>&lt;a href=\"http://twitter.com/download/android\" ...</td>\n",
       "      <td>RT @benedictrogers: We must not let this happe...</td>\n",
       "      <td>0.5</td>\n",
       "      <td>0.2</td>\n",
       "      <td>en</td>\n",
       "      <td>116</td>\n",
       "      <td>36</td>\n",
       "      <td>GraceCh15554845</td>\n",
       "      <td>207</td>\n",
       "      <td>54</td>\n",
       "      <td>False</td>\n",
       "      <td>Taiwan</td>\n",
       "      <td>benedictrogers</td>\n",
       "      <td>Melbourne, Victoria</td>\n",
       "    </tr>\n",
       "  </tbody>\n",
       "</table>\n",
       "</div>"
      ],
      "text/plain": [
       "                 created_at  \\\n",
       "5 2022-08-07 22:31:02+00:00   \n",
       "\n",
       "                                              source  \\\n",
       "5  <a href=\"http://twitter.com/download/android\" ...   \n",
       "\n",
       "                                       original_text  subjectivity  polarity  \\\n",
       "5  RT @benedictrogers: We must not let this happe...           0.5       0.2   \n",
       "\n",
       "  lang  favorite_count  retweet_count  original_author  followers_count  \\\n",
       "5   en             116             36  GraceCh15554845              207   \n",
       "\n",
       "   friends_count possibly_sensitive hashtags   user_mentions  \\\n",
       "5             54              False   Taiwan  benedictrogers   \n",
       "\n",
       "                 place  \n",
       "5  Melbourne, Victoria  "
      ]
     },
     "execution_count": 44,
     "metadata": {},
     "output_type": "execute_result"
    }
   ],
   "source": [
    "df.head(1)"
   ]
  },
  {
   "cell_type": "code",
   "execution_count": 47,
   "id": "aa70082d",
   "metadata": {
    "scrolled": true
   },
   "outputs": [],
   "source": [
    "df['clean_text'] = df['original_text']"
   ]
  },
  {
   "cell_type": "code",
   "execution_count": 48,
   "id": "ce027a75",
   "metadata": {},
   "outputs": [
    {
     "data": {
      "text/html": [
       "<div>\n",
       "<style scoped>\n",
       "    .dataframe tbody tr th:only-of-type {\n",
       "        vertical-align: middle;\n",
       "    }\n",
       "\n",
       "    .dataframe tbody tr th {\n",
       "        vertical-align: top;\n",
       "    }\n",
       "\n",
       "    .dataframe thead th {\n",
       "        text-align: right;\n",
       "    }\n",
       "</style>\n",
       "<table border=\"1\" class=\"dataframe\">\n",
       "  <thead>\n",
       "    <tr style=\"text-align: right;\">\n",
       "      <th></th>\n",
       "      <th>created_at</th>\n",
       "      <th>source</th>\n",
       "      <th>original_text</th>\n",
       "      <th>subjectivity</th>\n",
       "      <th>polarity</th>\n",
       "      <th>lang</th>\n",
       "      <th>favorite_count</th>\n",
       "      <th>retweet_count</th>\n",
       "      <th>original_author</th>\n",
       "      <th>followers_count</th>\n",
       "      <th>friends_count</th>\n",
       "      <th>possibly_sensitive</th>\n",
       "      <th>hashtags</th>\n",
       "      <th>user_mentions</th>\n",
       "      <th>place</th>\n",
       "      <th>clean_text</th>\n",
       "    </tr>\n",
       "  </thead>\n",
       "  <tbody>\n",
       "    <tr>\n",
       "      <th>5</th>\n",
       "      <td>2022-08-07 22:31:02+00:00</td>\n",
       "      <td>&lt;a href=\"http://twitter.com/download/android\" ...</td>\n",
       "      <td>RT @benedictrogers: We must not let this happe...</td>\n",
       "      <td>0.5</td>\n",
       "      <td>0.2</td>\n",
       "      <td>en</td>\n",
       "      <td>116</td>\n",
       "      <td>36</td>\n",
       "      <td>GraceCh15554845</td>\n",
       "      <td>207</td>\n",
       "      <td>54</td>\n",
       "      <td>False</td>\n",
       "      <td>Taiwan</td>\n",
       "      <td>benedictrogers</td>\n",
       "      <td>Melbourne, Victoria</td>\n",
       "      <td>RT @benedictrogers: We must not let this happe...</td>\n",
       "    </tr>\n",
       "  </tbody>\n",
       "</table>\n",
       "</div>"
      ],
      "text/plain": [
       "                 created_at  \\\n",
       "5 2022-08-07 22:31:02+00:00   \n",
       "\n",
       "                                              source  \\\n",
       "5  <a href=\"http://twitter.com/download/android\" ...   \n",
       "\n",
       "                                       original_text  subjectivity  polarity  \\\n",
       "5  RT @benedictrogers: We must not let this happe...           0.5       0.2   \n",
       "\n",
       "  lang  favorite_count  retweet_count  original_author  followers_count  \\\n",
       "5   en             116             36  GraceCh15554845              207   \n",
       "\n",
       "   friends_count possibly_sensitive hashtags   user_mentions  \\\n",
       "5             54              False   Taiwan  benedictrogers   \n",
       "\n",
       "                 place                                         clean_text  \n",
       "5  Melbourne, Victoria  RT @benedictrogers: We must not let this happe...  "
      ]
     },
     "execution_count": 48,
     "metadata": {},
     "output_type": "execute_result"
    }
   ],
   "source": [
    "df.head(1)"
   ]
  },
  {
   "cell_type": "code",
   "execution_count": 49,
   "id": "8a2d398a",
   "metadata": {
    "scrolled": true
   },
   "outputs": [],
   "source": [
    "df2 = df\n",
    "#df2"
   ]
  },
  {
   "cell_type": "code",
   "execution_count": 61,
   "id": "b3fc9d04",
   "metadata": {},
   "outputs": [],
   "source": [
    "nltk.download('words')\n",
    "words = set(nltk.corpus.words.words())"
   ]
  },
  {
   "cell_type": "code",
   "execution_count": 52,
   "id": "5c98d834",
   "metadata": {},
   "outputs": [
    {
     "data": {
      "text/plain": [
       "5        : We must not let this happen . We must be rea...\n",
       "36              : Roger it as it is . is a part of China !\n",
       "39       : \" For too long , been , and isolated from th...\n",
       "43       : 🇬🇷 Summer Travel Excursion 👉 check availabil...\n",
       "48       : We must not let this happen . We must be rea...\n",
       "                               ...                        \n",
       "21978    : Head of ' s missile is found dead in hotel ....\n",
       "21986    Minister is crystal clear in his interview . '...\n",
       "21987                 : Live - fire military in the with .\n",
       "21989    : Head of ' s missile is found dead in hotel ....\n",
       "21993     : A good of China ' s missile on on August 4th .\n",
       "Name: clean_text, Length: 1976, dtype: object"
      ]
     },
     "execution_count": 52,
     "metadata": {},
     "output_type": "execute_result"
    }
   ],
   "source": [
    "def cleaner(tw):\n",
    "    tw = re.sub(\"@[A-Za-z0-9]+\",\"\",tw) #Remove @ sign\n",
    "    tw = re.sub(r\"(?:\\@|http?\\://|https?\\://|www)\\S+\", \"\", tw) #Remove http links\n",
    "    tw = \" \".join(tw.split())\n",
    "    #tweet = ''.join(c for c in tweet if c not in emoji.UNICODE_EMOJI) #Remove Emojis\n",
    "    twe = tw.replace(\"#\", \"\").replace(\"_\", \" \") #Remove hashtag sign but keep the text\n",
    "\n",
    "    tweet = \" \".join(w for w in nltk.wordpunct_tokenize(tw) \\\n",
    "         if w.lower() in words or not w.isalpha())\n",
    "    return tw\n",
    "\n",
    "\n",
    "df2['clean_text'] = df2['original_text'].map(lambda x: cleaner(x))\n",
    "df2['clean_text']"
   ]
  },
  {
   "cell_type": "code",
   "execution_count": 53,
   "id": "1cf2e0af",
   "metadata": {},
   "outputs": [],
   "source": [
    "class PrepareData:\n",
    "  def __init__(self,df):\n",
    "    self.df=df\n",
    "  def preprocess_data(self):\n",
    "    \n",
    "\n",
    "\n",
    "    \n",
    "    #text Preprocessing\n",
    "    df2['clean_text']=df2['clean_text'].astype(str)\n",
    "    df2['clean_text'] = df2['clean_text'].apply(lambda x: x.lower())\n",
    "    df2['clean_text']= d2f['clean_text'].apply(lambda x: x.translate(str.maketrans(' ', ' ', string.punctuation)))\n",
    "    \n",
    "    #Converting tweets to list of words For feature engineering\n",
    "    sentence_list = [tw for tweet in df['clean_text']]\n",
    "    word_list = [sent.split() for sent in sentence_list]\n",
    "    # print(word_list)\n",
    "\n",
    "    #Create dictionary which contains Id and word \n",
    "    word_to_id = corpora.Dictionary(word_list) #generate unique tokens\n",
    "    #  we can see the word to unique integer mapping\n",
    "    # print(word_to_id.token2id)\n",
    "    # using bag of words(bow), we create a corpus that contains the word id and its frequency in each document.\n",
    "    corpus_1= [word_to_id.doc2bow(tweet) for tweet in word_list]\n",
    "\n",
    "\n",
    "    return word_list, word_to_id, corpus_1"
   ]
  },
  {
   "cell_type": "code",
   "execution_count": 54,
   "id": "2bc822d8",
   "metadata": {},
   "outputs": [],
   "source": [
    "PrepareData_obj=PrepareData(df)\n",
    "#tweets_df['clean_text']\n",
    "word_list ,id2word,corpus=PrepareData_obj.preprocess_data()"
   ]
  },
  {
   "cell_type": "code",
   "execution_count": 55,
   "id": "cffe9edb",
   "metadata": {},
   "outputs": [],
   "source": [
    "id_words = [[(id2word[id], count) for id, count in line] for line in corpus]"
   ]
  },
  {
   "cell_type": "code",
   "execution_count": 60,
   "id": "fce1facc",
   "metadata": {
    "scrolled": false
   },
   "outputs": [],
   "source": [
    "#print(id_words)"
   ]
  },
  {
   "cell_type": "markdown",
   "id": "ee20628a",
   "metadata": {},
   "source": [
    "## Topic Modeling using Latent Dirichlet Allocation\n",
    "based on the distributional hypothesis, (i.e. similar topics make use of similar words) and the statistical mixture hypothesis (i.e. documents talk about several topics) for which a statistical distribution can be determined.\n",
    "\n",
    "The purpose of LDA is mapping each teweets in our corpus to a set of topics which covers a good deal of the words in the tweet"
   ]
  },
  {
   "cell_type": "code",
   "execution_count": 57,
   "id": "add79909",
   "metadata": {},
   "outputs": [],
   "source": [
    "# Build LDA model\n",
    "lda_model = gensim.models.ldamodel.LdaModel(corpus,\n",
    "                                           id2word=id2word,\n",
    "                                           num_topics=5, \n",
    "                                           random_state=100,\n",
    "                                           update_every=1,\n",
    "                                           chunksize=100,\n",
    "                                           passes=10,\n",
    "                                           alpha='auto',\n",
    "                                           per_word_topics=True)"
   ]
  },
  {
   "cell_type": "code",
   "execution_count": 35,
   "id": "7ad01c73",
   "metadata": {
    "scrolled": true
   },
   "outputs": [
    {
     "name": "stdout",
     "output_type": "stream",
     "text": [
      "[(0,\n",
      "  '0.049*\"china\" + 0.049*\"the\" + 0.041*\"to\" + 0.030*\"s\" + 0.024*\"and\" + '\n",
      "  '0.023*\"a\" + 0.022*\"of\" + 0.020*\"with\" + 0.019*\"’\" + 0.016*\"is\"'),\n",
      " (1,\n",
      "  '0.072*\"the\" + 0.051*\"in\" + 0.046*\"and\" + 0.041*\"of\" + 0.026*\"…\" + '\n",
      "  '0.023*\"from\" + 0.021*\"democracy\" + 0.019*\"to\" + 0.019*\"for\" + 0.019*\"live\"'),\n",
      " (2,\n",
      "  '0.042*\"no\" + 0.037*\"how\" + 0.036*\"matter\" + 0.035*\"small\" + 0.034*\"we\" + '\n",
      "  '0.032*\"🤗\" + 0.025*\"china\" + 0.020*\"must\" + 0.019*\"…\" + 0.018*\"have\"'),\n",
      " (3,\n",
      "  '0.144*\"on\" + 0.096*\"china\" + 0.089*\"missile\" + 0.082*\"a\" + 0.074*\"s\" + '\n",
      "  '0.071*\"of\" + 0.070*\"good\" + 0.066*\"august\" + 0.065*\"4th\" + 0.013*\"king\"'),\n",
      " (4,\n",
      "  '0.062*\"is\" + 0.057*\"of\" + 0.055*\"this\" + 0.050*\"s\" + 0.043*\"the\" + '\n",
      "  '0.036*\"by\" + 0.032*\"president\" + 0.031*\"to\" + 0.029*\"li\" + 0.028*\"speech\"')]\n"
     ]
    }
   ],
   "source": [
    "pprint(lda_model.print_topics())"
   ]
  },
  {
   "cell_type": "code",
   "execution_count": 58,
   "id": "f399de0b",
   "metadata": {
    "scrolled": true
   },
   "outputs": [
    {
     "name": "stdout",
     "output_type": "stream",
     "text": [
      "[(0,\n",
      "  [('china', 0.048994213),\n",
      "   ('the', 0.048686046),\n",
      "   ('to', 0.040940057),\n",
      "   ('s', 0.029502012),\n",
      "   ('and', 0.024196256),\n",
      "   ('a', 0.02307162),\n",
      "   ('of', 0.022102553),\n",
      "   ('with', 0.019853821),\n",
      "   ('’', 0.018957663),\n",
      "   ('is', 0.016211418)]),\n",
      " (1,\n",
      "  [('the', 0.0717921),\n",
      "   ('in', 0.051017694),\n",
      "   ('and', 0.045822248),\n",
      "   ('of', 0.04100643),\n",
      "   ('…', 0.02594714),\n",
      "   ('from', 0.02292727),\n",
      "   ('democracy', 0.020625459),\n",
      "   ('to', 0.019478232),\n",
      "   ('for', 0.019285522),\n",
      "   ('live', 0.018910024)]),\n",
      " (2,\n",
      "  [('no', 0.041972574),\n",
      "   ('how', 0.036675114),\n",
      "   ('matter', 0.035771493),\n",
      "   ('small', 0.035182156),\n",
      "   ('we', 0.03383281),\n",
      "   ('🤗', 0.032189496),\n",
      "   ('china', 0.025360893),\n",
      "   ('must', 0.019831799),\n",
      "   ('…', 0.018560445),\n",
      "   ('have', 0.018284483)]),\n",
      " (3,\n",
      "  [('on', 0.14354847),\n",
      "   ('china', 0.09582541),\n",
      "   ('missile', 0.08935236),\n",
      "   ('a', 0.08169537),\n",
      "   ('s', 0.07378818),\n",
      "   ('of', 0.071426354),\n",
      "   ('good', 0.069583744),\n",
      "   ('august', 0.06578158),\n",
      "   ('4th', 0.06507041),\n",
      "   ('king', 0.0132447565)]),\n",
      " (4,\n",
      "  [('is', 0.06221295),\n",
      "   ('of', 0.056980982),\n",
      "   ('this', 0.055214174),\n",
      "   ('s', 0.049615525),\n",
      "   ('the', 0.042672757),\n",
      "   ('by', 0.036398962),\n",
      "   ('president', 0.032055635),\n",
      "   ('to', 0.030910848),\n",
      "   ('li', 0.028903812),\n",
      "   ('speech', 0.027817138)])]\n"
     ]
    }
   ],
   "source": [
    "pprint(lda_model.show_topics(formatted=False))"
   ]
  },
  {
   "cell_type": "markdown",
   "id": "ec4d21aa",
   "metadata": {},
   "source": [
    "#### Model Analysis\n",
    "- Perplexity is also a measure of model quality and in natural language processing is often used as “perplexity per number of words”. It describes how well a model predicts a sample, i.e. how much it is “perplexed” by a sample from the observed data. The lower the score, the better the model for the given data.\n",
    "\n",
    "- A coherence matrix is used to test the model for accuracy. Topic coherence is a measure that compares different topic models based on their human-interpretability. The coherence score ‘C_V’ provides a numerical value to the interpretability of the topics"
   ]
  },
  {
   "cell_type": "code",
   "execution_count": 37,
   "id": "d8c4e0a0",
   "metadata": {
    "scrolled": true
   },
   "outputs": [],
   "source": [
    "# # Compute Perplexity\n",
    "\n",
    "# #It's a measure of how good the model is. The lower the better. Perplexity is a negative value\n",
    "# print('\\nPerplexity: ', lda_model.log_perplexity(corpus))  \n",
    "# doc_lda = lda_model[corpus]\n",
    "\n",
    "# # Compute Coherence Score\n",
    "# coherence_model_lda = CoherenceModel(model=lda_model, texts=word_list, dictionary=id2word, coherence='c_v')\n",
    "# coherence_lda = coherence_model_lda.get_coherence()\n",
    "# print('\\n Ldamodel Coherence Score/Accuracy on Tweets: ', coherence_lda)"
   ]
  },
  {
   "cell_type": "code",
   "execution_count": 2,
   "id": "13cbff99",
   "metadata": {},
   "outputs": [],
   "source": [
    "#!pip install pyLDAvis "
   ]
  },
  {
   "cell_type": "markdown",
   "id": "430aa871",
   "metadata": {},
   "source": [
    "Anlayizing results Exploring the Intertopic Distance Plot can help you learn about how topics relate to each other, including potential higher-level structure between groups of topics"
   ]
  },
  {
   "cell_type": "code",
   "execution_count": 59,
   "id": "3f021216",
   "metadata": {},
   "outputs": [
    {
     "data": {
      "text/html": [
       "\n",
       "<link rel=\"stylesheet\" type=\"text/css\" href=\"https://cdn.jsdelivr.net/gh/bmabey/pyLDAvis@3.3.1/pyLDAvis/js/ldavis.v1.0.0.css\">\n",
       "\n",
       "\n",
       "<div id=\"ldavis_el2378414041564483209814267830\"></div>\n",
       "<script type=\"text/javascript\">\n",
       "\n",
       "var ldavis_el2378414041564483209814267830_data = {\"mdsDat\": {\"x\": [-0.036328148603356945, -0.19640961825918998, -0.16899152771254203, 0.2595258772323615, 0.14220341734272757], \"y\": [0.05013530732636118, -0.0689838462926467, 0.1166253679262701, 0.18653828354747926, -0.2843151125074639], \"topics\": [1, 2, 3, 4, 5], \"cluster\": [1, 1, 1, 1, 1], \"Freq\": [40.594876332658316, 17.024491169012336, 16.3255135157934, 14.038870744800985, 12.01624823773496]}, \"tinfo\": {\"Term\": [\"on\", \"china\", \"a\", \"missile\", \"s\", \"good\", \"is\", \"august\", \"4th\", \"the\", \"of\", \"this\", \"and\", \"no\", \"by\", \"in\", \"how\", \"president\", \"we\", \"matter\", \"small\", \"li\", \"to\", \"\\ud83e\\udd17\", \"speech\", \"based\", \"\\u2019\", \"with\", \"from\", \"for\", \"with\", \"part\", \"military\", \"your\", \"visit\", \"do\", \"you\", \"an\", \"\\u201d\", \"\\u201c\", \"what\", \"as\", \"war\", \"about\", \"air\", \"there\", \"if\", \"around\", \"all\", \"speaker\", \"just\", \"island\", \"out\", \"so\", \"nancy\", \"was\", \"can\", \"3\", \"people\", \"here\", \"not\", \"t\", \"to\", \"us\", \"china\", \"\\u2019\", \"the\", \"for\", \"and\", \"a\", \"s\", \"is\", \"of\", \"in\", \"that\", \"on\", \"via\", \"are\", \"democracy\", \"live\", \"disaster\", \"name\", \"chaos\", \"more\", \"story\", \"\\ud83c\\udde8\\ud83c\\uddf3\", \"week\", \"long\", \"too\", \"\\ud83c\\uddf9\\ud83c\\uddfc\", \"fire\", \"radio\", \"commercial\", \"p\", \"communication\", \"yell\", \"show\", \"great\", \"isolated\", \"2022\", \"leader\", \"morning\", \"follow\", \"province\", \"wise\", \"crisis\", \"massage\", \"off\", \"been\", \"from\", \"in\", \"and\", \"\\u2026\", \"the\", \"day\", \"international\", \"of\", \"for\", \"are\", \"to\", \"maybe\", \"world\", \"president\", \"li\", \"speech\", \"based\", \"again\", \"dead\", \"video\", \"found\", \"hotel\", \"head\", \"trip\", \"u\", \"why\", \"best\", \"news\", \"hypocrisy\", \"near\", \"conflict\", \"supporting\", \"open\", \"letter\", \"rally\", \"solidarity\", \"said\", \"act\", \"ww3\", \"latest\", \"these\", \"strait\", \"watch\", \"time\", \"this\", \"against\", \"by\", \"is\", \"maybe\", \"it\", \"of\", \"s\", \"\\u2019\", \"the\", \"to\", \"in\", \"its\", \"at\", \"via\", \"missile\", \"good\", \"august\", \"4th\", \"king\", \"x\", \"true\", \"attack\", \"new\", \"today\", \"amid\", \"4\", \"research\", \"heart\", \"aircraft\", \"during\", \"peace\", \"billion\", \"joint\", \"got\", \"ballistic\", \"word\", \"firing\", \"pink\", \"production\", \"eastern\", \"panda\", \"command\", \"theater\", \"times\", \"on\", \"a\", \"china\", \"s\", \"of\", \"that\", \"1\", \"matter\", \"small\", \"\\ud83e\\udd17\", \"must\", \"have\", \"defend\", \"travel\", \"need\", \"japan\", \"check\", \"\\ud83d\\udc49\", \"should\", \"summer\", \"caption\", \"could\", \"availability\", \"excursion\", \"\\ud83c\\uddec\\ud83c\\uddf7\", \"or\", \"regional\", \"due\", \"advice\", \"my\", \"want\", \"\\u27a1\\ufe0f\", \"ready\", \"me\", \"\\u2066\\u2069\", \"win\", \"f\", \"no\", \"how\", \"we\", \"think\", \"i\", \"\\u2026\", \"china\", \"after\", \"on\", \"in\"], \"Freq\": [675.0, 926.0, 530.0, 320.0, 775.0, 249.0, 426.0, 235.0, 233.0, 991.0, 898.0, 271.0, 449.0, 152.0, 205.0, 504.0, 131.0, 134.0, 134.0, 110.0, 108.0, 120.0, 636.0, 99.0, 116.0, 115.0, 291.0, 205.0, 157.0, 244.0, 205.14186688937806, 139.94431373726272, 122.93769775076248, 128.44275426797338, 109.98996548783315, 132.31681871940674, 84.30867999664937, 76.43447540421114, 75.93108683059936, 71.37735975437144, 68.97856803820797, 66.74036007731867, 65.48439543389586, 49.61676694450453, 49.485278319361996, 47.54646102778144, 44.771453449186744, 43.47132406300254, 43.516451105421005, 41.97034830389221, 41.18134919206096, 38.711419473748315, 38.29915346041397, 37.98996176909792, 37.427177654902394, 37.212644975103544, 35.71587927699291, 32.74802684712065, 31.392168282046168, 31.42513426254837, 94.23659083672618, 64.70941221656987, 423.0178066488254, 109.71320810645877, 506.2382893242662, 195.8822154231595, 503.05411674298205, 160.6139907293898, 250.01057034190868, 238.3901476189776, 304.8328972813531, 167.5063273012278, 228.37715024322233, 149.15759198300694, 69.52132910228893, 118.33262236483311, 54.147932905272356, 57.74064018297052, 89.3751413200677, 81.94174457156247, 69.71394183197467, 68.86955518810836, 68.68397996332655, 56.72117399566101, 50.90301699777225, 50.036720822431064, 48.029123293479486, 41.35943251961132, 39.916381750287606, 39.630351182445835, 38.41073808481815, 37.14426708150714, 35.88513288575209, 36.17615554982418, 35.56374600823058, 35.56374600823058, 36.45137058177487, 33.91973612501431, 30.402479461111326, 23.052965668301614, 22.549419741793734, 20.94328844808256, 20.555733090534893, 20.696143363852162, 19.92016902014463, 20.373715289218747, 18.77739465511623, 17.899134802107476, 39.313657763223326, 99.3494464437953, 221.0721041429619, 198.55896890982365, 112.43528438784031, 311.0926827455682, 29.862491635686872, 34.09884220650008, 177.69086054312723, 83.56886930471595, 51.847491740755935, 84.40392553105234, 36.85646486431605, 35.99090721250773, 133.20183675877777, 120.10496344089596, 115.58946852909557, 114.93366588825518, 91.58867081613744, 87.68119233598884, 87.54812778976758, 86.41526026785225, 86.41526026785225, 80.41257245829523, 30.222962302699145, 31.399212024566204, 28.437039808272218, 19.745503121938707, 18.184999724201212, 14.470371763646268, 15.065175200098682, 14.15369234637594, 13.31765040307774, 12.000007990984406, 11.914145290687427, 11.914145290687427, 11.914145290687427, 10.989768713085187, 9.831066336457303, 8.913811444266406, 8.56404681085537, 7.876157402365575, 7.297245937733123, 87.52524861348616, 88.64543816153513, 229.43327757966944, 22.960081568852853, 151.24980716745793, 258.51552796087236, 80.23611023230066, 89.24480137292895, 236.7749544752657, 206.1690252568642, 95.00909219038724, 177.31951399297594, 128.44486437038609, 101.4676839649321, 26.620523381488603, 20.945003535804876, 20.668514572776186, 319.2840256023109, 248.64455038894218, 235.0582204231389, 232.5170034142035, 47.32767086058183, 46.9823804602991, 40.96853493908652, 27.58110403795128, 20.896195895340295, 17.659218197369945, 12.237370032390215, 10.811209294148902, 9.815847882807242, 8.263221656822141, 8.20801915443876, 7.367456205757107, 6.749160058242457, 5.889237006013588, 5.671265701821843, 4.8407384750584646, 5.149652347305324, 5.294075225464371, 4.923089217186115, 4.6712864024381195, 3.973137107589491, 3.7844231047016286, 3.7170803947135664, 3.6806111012481435, 3.6806111012481435, 3.6365783053612457, 512.9437387445486, 291.92319245283176, 342.41426263418117, 263.6683235323595, 255.2287760093843, 43.59442390583055, 7.390378002612686, 109.40695601456856, 107.60447074097853, 98.45143368167521, 60.65547126152775, 55.92301170382288, 44.220743600034815, 43.53510269403977, 30.773412046799564, 30.809786702997997, 29.517643267919517, 23.840411120716066, 23.816529748940994, 23.209201170499874, 22.204930239680003, 21.31603988922833, 20.214797884932228, 20.214797884932228, 20.214797884932228, 21.885324622079292, 19.985287192016592, 19.698912970386047, 18.666156154733564, 18.487326438357524, 18.388414148890753, 15.77548900203692, 15.56672211756021, 12.585914465041519, 12.528613699856255, 12.748136316659142, 13.924963261405795, 128.3729353290095, 112.17067789588953, 103.47750536245152, 24.069471759154073, 50.19197241052793, 56.767040453037495, 77.56618280514498, 20.783592685060707, 43.62970813306237, 32.94378267450052], \"Total\": [675.0, 926.0, 530.0, 320.0, 775.0, 249.0, 426.0, 235.0, 233.0, 991.0, 898.0, 271.0, 449.0, 152.0, 205.0, 504.0, 131.0, 134.0, 134.0, 110.0, 108.0, 120.0, 636.0, 99.0, 116.0, 115.0, 291.0, 205.0, 157.0, 244.0, 205.87202897648493, 140.71043033380104, 123.66598830904793, 129.28445658260796, 110.7114210879399, 133.25862108436962, 85.02784175504077, 77.16343390372676, 76.655263142006, 72.10091965754016, 69.69933710961239, 67.46021999082146, 66.20644828431585, 50.33712479138248, 50.22094594736166, 48.26768469447117, 45.49140873006051, 44.19539092775298, 44.249564705284115, 42.69130806742012, 41.902398563883764, 39.43214770622991, 39.02568433433731, 38.71510444021653, 38.148582746440155, 37.93355367329824, 36.4375581141441, 33.47791650622561, 32.11329938805573, 32.17650040333366, 111.12595046127345, 72.76252721331214, 636.2055116314509, 135.94755943932765, 926.6056618882767, 291.46678426149253, 991.8035395932892, 244.6751715808202, 449.055422035981, 530.8955764505025, 775.1021848459314, 426.59495964744775, 898.2665689508748, 504.7843182176799, 113.69423828996742, 675.2918054403896, 75.39498516199264, 110.07222947280673, 90.08312461550588, 82.65218046292789, 70.41631862121227, 69.57074891095637, 69.38517126163049, 57.44681075160927, 51.607184655200115, 50.74324546087986, 48.73333234502214, 42.06772163350939, 40.62695031120377, 40.35798450440289, 39.11752353689069, 37.8460050675524, 36.58679181883144, 36.88665359101612, 36.26493475659211, 36.26493475659211, 37.20232472119794, 34.63642801681745, 31.103719763095754, 23.757106261790778, 23.257781673021444, 21.646371808662515, 21.25897401193366, 21.425597992374982, 20.62609032223427, 21.102913986468412, 19.485867198503545, 18.605215759167432, 48.25730273662346, 157.17166708724187, 504.7843182176799, 449.055422035981, 230.68448033583644, 991.8035395932892, 36.310098624550214, 47.10262925754712, 898.2665689508748, 244.6751715808202, 110.07222947280673, 636.2055116314509, 117.64855684688322, 85.90655255076022, 134.0010670804749, 120.89914660500749, 116.38104983444802, 115.72509104208392, 92.38756475277846, 88.47497576936402, 88.3415098889996, 87.2078808087415, 87.2078808087415, 81.2045519286898, 31.02914661919939, 32.241794738316834, 29.267030587686833, 20.54945331133043, 18.991622084557324, 15.261796258776007, 15.892685577292523, 14.969045278390686, 14.11624313482098, 12.793930338003877, 12.707925622182538, 12.707925622182538, 12.707925622182538, 11.848217063482842, 10.679536299545797, 9.731352051765862, 9.410077349201531, 8.715699651222137, 8.094253725172743, 97.47854353418035, 102.74099842551945, 271.77972456317275, 26.89722869796042, 205.06343367633104, 426.59495964744775, 117.64855684688322, 141.76379454735488, 898.2665689508748, 775.1021848459314, 291.46678426149253, 991.8035395932892, 636.2055116314509, 504.7843182176799, 85.67670743512797, 77.8874027227943, 75.39498516199264, 320.1592193072544, 249.44382589836738, 235.8538026911211, 233.3123817046936, 48.12348763732629, 47.77808497552537, 41.76416603233608, 28.388533701860442, 21.719860248649248, 18.473371437841024, 13.050700297944383, 11.615127253633798, 10.61818106091628, 9.060252193379776, 9.014842014440596, 8.190750508250401, 7.55840201227684, 6.710985348143043, 6.470679865149648, 5.638209384563007, 6.000863623051018, 6.186557930788817, 5.759714362583844, 5.469752280553391, 4.7859193057872735, 4.582076046951674, 4.512406023862777, 4.4799015250716945, 4.4799015250716945, 4.458622366451525, 675.2918054403896, 530.8955764505025, 926.6056618882767, 775.1021848459314, 898.2665689508748, 113.69423828996742, 16.296235867782123, 110.15571855304489, 108.35636068657237, 99.19891941421488, 61.40618562300344, 56.69368695519633, 44.96600197782836, 44.28123170528135, 31.524801714034105, 31.582733024262648, 30.264546860338786, 24.58573650829992, 24.57407253441377, 23.95455181930409, 22.95002866816252, 22.088021717031317, 20.95987646082229, 20.95987646082229, 20.95987646082229, 22.699507889101582, 20.740941615471936, 20.45148102498089, 19.420245744336903, 19.23975620229618, 19.149806671730257, 16.525890413070517, 16.319589076866237, 13.337564396666544, 13.28002440005588, 13.51674883806127, 14.76660530876154, 152.04611621308956, 131.99531525978244, 134.26718218287402, 29.186151485847063, 76.59453684798711, 230.68448033583644, 926.6056618882767, 29.30279891688135, 675.2918054403896, 504.7843182176799], \"Category\": [\"Default\", \"Default\", \"Default\", \"Default\", \"Default\", \"Default\", \"Default\", \"Default\", \"Default\", \"Default\", \"Default\", \"Default\", \"Default\", \"Default\", \"Default\", \"Default\", \"Default\", \"Default\", \"Default\", \"Default\", \"Default\", \"Default\", \"Default\", \"Default\", \"Default\", \"Default\", \"Default\", \"Default\", \"Default\", \"Default\", \"Topic1\", \"Topic1\", \"Topic1\", \"Topic1\", \"Topic1\", \"Topic1\", \"Topic1\", \"Topic1\", \"Topic1\", \"Topic1\", \"Topic1\", \"Topic1\", \"Topic1\", \"Topic1\", \"Topic1\", \"Topic1\", \"Topic1\", \"Topic1\", \"Topic1\", \"Topic1\", \"Topic1\", \"Topic1\", \"Topic1\", \"Topic1\", \"Topic1\", \"Topic1\", \"Topic1\", \"Topic1\", \"Topic1\", \"Topic1\", \"Topic1\", \"Topic1\", \"Topic1\", \"Topic1\", \"Topic1\", \"Topic1\", \"Topic1\", \"Topic1\", \"Topic1\", \"Topic1\", \"Topic1\", \"Topic1\", \"Topic1\", \"Topic1\", \"Topic1\", \"Topic1\", \"Topic1\", \"Topic1\", \"Topic2\", \"Topic2\", \"Topic2\", \"Topic2\", \"Topic2\", \"Topic2\", \"Topic2\", \"Topic2\", \"Topic2\", \"Topic2\", \"Topic2\", \"Topic2\", \"Topic2\", \"Topic2\", \"Topic2\", \"Topic2\", \"Topic2\", \"Topic2\", \"Topic2\", \"Topic2\", \"Topic2\", \"Topic2\", \"Topic2\", \"Topic2\", \"Topic2\", \"Topic2\", \"Topic2\", \"Topic2\", \"Topic2\", \"Topic2\", \"Topic2\", \"Topic2\", \"Topic2\", \"Topic2\", \"Topic2\", \"Topic2\", \"Topic2\", \"Topic2\", \"Topic2\", \"Topic2\", \"Topic2\", \"Topic2\", \"Topic2\", \"Topic2\", \"Topic3\", \"Topic3\", \"Topic3\", \"Topic3\", \"Topic3\", \"Topic3\", \"Topic3\", \"Topic3\", \"Topic3\", \"Topic3\", \"Topic3\", \"Topic3\", \"Topic3\", \"Topic3\", \"Topic3\", \"Topic3\", \"Topic3\", \"Topic3\", \"Topic3\", \"Topic3\", \"Topic3\", \"Topic3\", \"Topic3\", \"Topic3\", \"Topic3\", \"Topic3\", \"Topic3\", \"Topic3\", \"Topic3\", \"Topic3\", \"Topic3\", \"Topic3\", \"Topic3\", \"Topic3\", \"Topic3\", \"Topic3\", \"Topic3\", \"Topic3\", \"Topic3\", \"Topic3\", \"Topic3\", \"Topic3\", \"Topic3\", \"Topic3\", \"Topic3\", \"Topic3\", \"Topic4\", \"Topic4\", \"Topic4\", \"Topic4\", \"Topic4\", \"Topic4\", \"Topic4\", \"Topic4\", \"Topic4\", \"Topic4\", \"Topic4\", \"Topic4\", \"Topic4\", \"Topic4\", \"Topic4\", \"Topic4\", \"Topic4\", \"Topic4\", \"Topic4\", \"Topic4\", \"Topic4\", \"Topic4\", \"Topic4\", \"Topic4\", \"Topic4\", \"Topic4\", \"Topic4\", \"Topic4\", \"Topic4\", \"Topic4\", \"Topic4\", \"Topic4\", \"Topic4\", \"Topic4\", \"Topic4\", \"Topic4\", \"Topic4\", \"Topic5\", \"Topic5\", \"Topic5\", \"Topic5\", \"Topic5\", \"Topic5\", \"Topic5\", \"Topic5\", \"Topic5\", \"Topic5\", \"Topic5\", \"Topic5\", \"Topic5\", \"Topic5\", \"Topic5\", \"Topic5\", \"Topic5\", \"Topic5\", \"Topic5\", \"Topic5\", \"Topic5\", \"Topic5\", \"Topic5\", \"Topic5\", \"Topic5\", \"Topic5\", \"Topic5\", \"Topic5\", \"Topic5\", \"Topic5\", \"Topic5\", \"Topic5\", \"Topic5\", \"Topic5\", \"Topic5\", \"Topic5\", \"Topic5\", \"Topic5\", \"Topic5\", \"Topic5\"], \"logprob\": [30.0, 29.0, 28.0, 27.0, 26.0, 25.0, 24.0, 23.0, 22.0, 21.0, 20.0, 19.0, 18.0, 17.0, 16.0, 15.0, 14.0, 13.0, 12.0, 11.0, 10.0, 9.0, 8.0, 7.0, 6.0, 5.0, 4.0, 3.0, 2.0, 1.0, -3.9194, -4.3018, -4.4314, -4.3876, -4.5427, -4.3579, -4.8086, -4.9066, -4.9132, -4.9751, -5.0093, -5.0423, -5.0612, -5.3387, -5.3414, -5.3814, -5.4415, -5.471, -5.4699, -5.5061, -5.5251, -5.5869, -5.5976, -5.6057, -5.6207, -5.6264, -5.6675, -5.7542, -5.7965, -5.7955, -4.6973, -5.0732, -3.1956, -4.5452, -3.0161, -3.9655, -3.0224, -4.1641, -3.7216, -3.7692, -3.5233, -4.122, -3.8121, -4.2381, -5.0014, -4.4696, -5.2513, -5.1871, -3.8812, -3.9681, -4.1297, -4.1419, -4.1446, -4.3359, -4.4441, -4.4613, -4.5023, -4.6518, -4.6873, -4.6945, -4.7257, -4.7593, -4.7937, -4.7857, -4.8027, -4.8027, -4.7781, -4.8501, -4.9595, -5.2363, -5.2584, -5.3323, -5.3509, -5.3441, -5.3823, -5.3598, -5.4414, -5.4893, -4.7025, -3.7754, -2.9756, -3.083, -3.6517, -2.634, -4.9775, -4.8448, -3.194, -3.9484, -4.4258, -3.9385, -4.767, -4.7908, -3.4403, -3.5438, -3.5821, -3.5878, -3.8148, -3.8584, -3.86, -3.873, -3.873, -3.945, -4.9235, -4.8854, -4.9845, -5.3492, -5.4316, -5.66, -5.6198, -5.6822, -5.7431, -5.8472, -5.8544, -5.8544, -5.8544, -5.9352, -6.0466, -6.1445, -6.1846, -6.2683, -6.3447, -3.8602, -3.8475, -2.8965, -5.1984, -3.3132, -2.7772, -3.9472, -3.8408, -2.865, -3.0035, -3.7782, -3.1542, -3.4766, -3.7124, -5.0505, -5.2902, -5.3035, -2.4152, -2.6652, -2.7214, -2.7323, -4.3242, -4.3315, -4.4684, -4.8641, -5.1417, -5.31, -5.6768, -5.8007, -5.8973, -6.0694, -6.0761, -6.1842, -6.2718, -6.4081, -6.4458, -6.6042, -6.5423, -6.5147, -6.5873, -6.6398, -6.8017, -6.8504, -6.8683, -6.8782, -6.8782, -6.8902, -1.9411, -2.5048, -2.3452, -2.6066, -2.6391, -4.4063, -6.1811, -3.3306, -3.3472, -3.4361, -3.9205, -4.0017, -4.2365, -4.2521, -4.599, -4.5978, -4.6407, -4.8543, -4.8553, -4.8811, -4.9254, -4.9662, -5.0193, -5.0193, -5.0193, -4.9399, -5.0307, -5.0451, -5.099, -5.1086, -5.114, -5.2672, -5.2805, -5.4931, -5.4977, -5.4803, -5.392, -3.1707, -3.3057, -3.3863, -4.8447, -4.1098, -3.9867, -3.6745, -4.9915, -4.2499, -4.5309], \"loglift\": [30.0, 29.0, 28.0, 27.0, 26.0, 25.0, 24.0, 23.0, 22.0, 21.0, 20.0, 19.0, 18.0, 17.0, 16.0, 15.0, 14.0, 13.0, 12.0, 11.0, 10.0, 9.0, 8.0, 7.0, 6.0, 5.0, 4.0, 3.0, 2.0, 1.0, 0.898, 0.8961, 0.8956, 0.895, 0.895, 0.8944, 0.893, 0.892, 0.892, 0.8914, 0.8911, 0.8908, 0.8906, 0.8871, 0.8868, 0.8865, 0.8856, 0.885, 0.8848, 0.8845, 0.8842, 0.8831, 0.8827, 0.8826, 0.8824, 0.8823, 0.8815, 0.8795, 0.8788, 0.8779, 0.7367, 0.7842, 0.4934, 0.6871, 0.297, 0.5041, 0.2227, 0.4806, 0.3159, 0.1009, -0.0317, -0.0333, -0.4679, -0.3176, 0.4096, -0.8401, 0.5705, 0.2564, 1.7626, 1.7619, 1.7605, 1.7604, 1.7604, 1.7578, 1.7568, 1.7565, 1.756, 1.7535, 1.7529, 1.7523, 1.7523, 1.7518, 1.7512, 1.7511, 1.751, 1.751, 1.7501, 1.7496, 1.7477, 1.7404, 1.7396, 1.7375, 1.7369, 1.7359, 1.7357, 1.7354, 1.7335, 1.7318, 1.5655, 1.3118, 0.9449, 0.9545, 1.0518, 0.6111, 1.575, 1.4475, 0.1501, 0.6963, 1.0177, -0.2494, 0.6098, 0.9005, 1.8065, 1.8059, 1.8056, 1.8056, 1.8038, 1.8034, 1.8034, 1.8033, 1.8033, 1.8026, 1.7861, 1.786, 1.7837, 1.7725, 1.769, 1.7592, 1.759, 1.7564, 1.7542, 1.7484, 1.7479, 1.7479, 1.7479, 1.7372, 1.7297, 1.7247, 1.7182, 1.7112, 1.7088, 1.7047, 1.6649, 1.6431, 1.6542, 1.5081, 1.3116, 1.4297, 1.3497, 0.4791, 0.4881, 0.6915, 0.0909, 0.2124, 0.2081, 0.6435, 0.4991, 0.5183, 1.9606, 1.9601, 1.96, 1.9599, 1.9467, 1.9465, 1.9441, 1.9345, 1.9247, 1.9183, 1.899, 1.8916, 1.8848, 1.8713, 1.8696, 1.8574, 1.8501, 1.8327, 1.8315, 1.8108, 1.8104, 1.8075, 1.8064, 1.8055, 1.7772, 1.7721, 1.7694, 1.7668, 1.7668, 1.7595, 1.6884, 1.3653, 0.9678, 0.885, 0.705, 1.0048, 1.1726, 2.1121, 2.1119, 2.1113, 2.1066, 2.1052, 2.1022, 2.1019, 2.0948, 2.0941, 2.0939, 2.0881, 2.0876, 2.0873, 2.0859, 2.0833, 2.0827, 2.0827, 2.0827, 2.0824, 2.0818, 2.0814, 2.0793, 2.079, 2.0783, 2.0724, 2.0717, 2.0609, 2.0607, 2.0604, 2.0602, 1.9497, 1.9562, 1.8584, 1.9262, 1.6962, 0.7168, -0.3615, 1.7754, -0.6205, -0.6104]}, \"token.table\": {\"Topic\": [4, 5, 2, 1, 4, 4, 1, 4, 1, 3, 5, 3, 5, 3, 2, 3, 1, 4, 1, 4, 1, 1, 2, 1, 2, 1, 1, 1, 2, 3, 4, 4, 5, 4, 3, 1, 2, 3, 4, 1, 3, 1, 5, 2, 5, 1, 4, 5, 4, 2, 2, 3, 5, 2, 2, 5, 3, 5, 2, 2, 1, 5, 4, 4, 5, 5, 2, 4, 2, 1, 2, 3, 1, 2, 4, 4, 2, 5, 3, 4, 1, 3, 1, 5, 3, 1, 5, 1, 1, 2, 3, 5, 1, 2, 1, 3, 1, 2, 1, 3, 1, 3, 5, 5, 4, 1, 4, 3, 2, 3, 3, 2, 2, 2, 5, 2, 3, 5, 1, 4, 2, 2, 5, 5, 2, 1, 3, 5, 4, 3, 1, 5, 1, 5, 1, 2, 3, 4, 2, 1, 4, 5, 3, 5, 1, 2, 4, 1, 4, 1, 4, 3, 4, 2, 2, 3, 5, 5, 4, 1, 3, 4, 3, 5, 2, 5, 1, 3, 1, 3, 2, 3, 5, 3, 1, 5, 1, 4, 1, 2, 3, 4, 1, 3, 1, 5, 1, 3, 5, 3, 5, 4, 1, 2, 3, 4, 2, 5, 3, 4, 3, 1, 2, 5, 1, 3, 3, 1, 5, 1, 1, 1, 3, 1, 5, 2, 1, 3, 5, 2, 1, 4, 1, 2, 3, 4, 2, 1, 1, 1, 3, 1, 1, 1, 2, 3, 5, 5, 5, 2, 5, 2, 5, 5], \"Freq\": [0.42954704735460375, 0.4909109112624043, 0.9681313770520759, 0.9857244250508619, 0.9470408511072184, 0.9986611010422543, 0.4482990828276183, 0.5500140007801031, 0.9933026609529316, 0.9363702430062719, 0.9783604311773733, 0.273011462921762, 0.7166550901696253, 0.9958050117045996, 0.11153565423740053, 0.8551066824867374, 0.9756885115497151, 0.887425424337448, 0.994360064173596, 0.9194908875418832, 0.9849224711126994, 0.5567241541512186, 0.44315242670437, 0.5269267305458627, 0.47241706876525624, 0.9729521358979014, 0.9931779055733279, 0.3466542605881279, 0.3723323539650263, 0.2696199804574328, 0.9863137101077193, 0.9963799494374095, 0.9542040974040821, 0.8332134029497993, 0.9937343661987681, 0.16577801796470146, 0.8081678375779195, 0.9732619012775645, 0.8940564892844274, 0.2584566104732957, 0.7363575128578802, 0.9879915631894594, 0.9586044670401458, 0.9944487956918326, 0.991258852757334, 0.5460791152180654, 0.36908904625410743, 0.08417820353163855, 0.8928767691910339, 0.983961648735503, 0.9926944648220013, 0.9352633878534926, 0.950741549833212, 0.9477364127449118, 0.8262164283882228, 0.16524328567764457, 0.9946315241656332, 0.9785170587702088, 0.9879763871410002, 0.9940877536718192, 0.9905550494660097, 0.977924287026968, 0.8546225395278517, 0.872966742370216, 0.9542040974040821, 0.9480852035567927, 0.9714316389217027, 0.868098604417072, 0.9878181321550003, 0.6580152737190135, 0.3433123167229636, 0.9861494076276139, 0.3626607839462617, 0.6298845194856125, 0.9982207380889507, 0.8868063704213652, 0.9816254719883807, 0.9877642998285765, 0.9851664481844863, 0.8829776290162772, 0.9634360359707804, 0.9861494076276139, 0.1439445025954576, 0.8485149626679607, 0.9173232142939639, 0.33944979720421503, 0.6527880715465674, 0.9891977684626901, 0.29517557226440266, 0.4378107481237113, 0.20008545502486352, 0.06537445560218313, 0.27599308584068155, 0.721828070660244, 0.3938161860581775, 0.6071332868396903, 0.9890407261240393, 0.9645148628041169, 0.3668073372755967, 0.6278048657216944, 0.5952609703006595, 0.31513816074740797, 0.09337426985108384, 0.9815489994543861, 0.9272595963702861, 0.978464274246545, 0.9766540686786201, 0.9564214688164782, 0.9889163258712473, 0.9442925900552325, 0.9925628374537241, 0.9921093374757317, 0.97461898120342, 0.9750656620229425, 0.9895083199653556, 0.31449599546006, 0.6799913415352649, 0.9746907016433292, 0.9946146202512562, 0.9963792412107868, 0.9922221835161362, 0.97013948506586, 0.993385265362399, 0.9355627904397135, 0.9917961367400706, 0.969891863242355, 0.9438304134973895, 0.9833527354495468, 0.9668570497043592, 0.9477863407273862, 0.1512698947717018, 0.8418498491642534, 0.8458870282757067, 0.14398077077033306, 0.2538222036541906, 0.1981594396949383, 0.26384150116685606, 0.2838800961921869, 0.9674706401150321, 0.17473927426536243, 0.7596715906621265, 0.06515701752267752, 0.937944766226721, 0.9691840064322528, 0.9737177104813803, 0.9759627533349333, 0.8864450536691422, 0.9949511181785479, 0.9261216840054488, 0.9653321393543943, 0.9141181800456483, 0.9925294096361656, 0.8357850904763653, 0.9801360040206838, 0.9776461196883968, 0.9442925900552325, 0.9804168428897962, 0.9642763752384693, 0.9417808890835645, 0.3934965040262729, 0.2657714092767614, 0.3406002526653641, 0.928409729587322, 0.9766390966084343, 0.9676814626449176, 0.996711215803905, 0.9815290582175548, 0.9442925900552325, 0.9838068192633411, 0.9967258429530403, 0.988234493719104, 0.8648110422126173, 0.960151547542841, 0.9209249143585868, 0.8933169653308584, 0.10994670342533641, 0.6156864327765756, 0.387002900602419, 0.5071568913801883, 0.3135701654458023, 0.17846276297076208, 0.8928767691910339, 0.9944541633565898, 0.9178838555867652, 0.1713141248658494, 0.8223077993560771, 0.10670405986543419, 0.8425941279029113, 0.04783285442243602, 0.8662559383683547, 0.12653176627852372, 0.8971381003463346, 0.664879496116407, 0.13203280773942835, 0.20119284988865271, 0.974375471232535, 0.9845681178035439, 0.9936489638058598, 0.966832906111488, 0.9817028303224248, 0.9614849375354078, 0.80913552588704, 0.154471327669344, 0.03677888754032, 0.7162280075256509, 0.2785331140377531, 0.9961342081493887, 0.9935740948770335, 0.9399572699902161, 0.9817774806596647, 0.9753897649205648, 0.09232801059285622, 0.902762770241261, 0.22343509048353696, 0.7671271439934769, 0.9849521403578501, 0.9899663735895712, 0.9567079214308849, 0.9617697388438425, 0.9696457102411036, 0.9957642182824917, 0.8082038600360241, 0.5703872236177446, 0.41906000102528174, 0.924845792457673, 0.9837146052227931, 0.9926944648220013, 0.9879117035805529, 0.9900648800593655, 0.6724608448836369, 0.32593765440788525, 0.9847308513848474, 0.9914518179816028, 0.19940656576910595, 0.48551163839434497, 0.06502388014209977, 0.24709074453997912, 0.9789138640396849, 0.9681777864958742, 0.9853528197865692, 0.9542040974040821, 0.9911297724899062, 0.9761757591397686, 0.9879139871553573], \"Term\": [\"1\", \"1\", \"2022\", \"3\", \"4\", \"4th\", \"a\", \"a\", \"about\", \"act\", \"advice\", \"after\", \"after\", \"again\", \"against\", \"against\", \"air\", \"aircraft\", \"all\", \"amid\", \"an\", \"and\", \"and\", \"are\", \"are\", \"around\", \"as\", \"at\", \"at\", \"at\", \"attack\", \"august\", \"availability\", \"ballistic\", \"based\", \"been\", \"been\", \"best\", \"billion\", \"by\", \"by\", \"can\", \"caption\", \"chaos\", \"check\", \"china\", \"china\", \"china\", \"command\", \"commercial\", \"communication\", \"conflict\", \"could\", \"crisis\", \"day\", \"day\", \"dead\", \"defend\", \"democracy\", \"disaster\", \"do\", \"due\", \"during\", \"eastern\", \"excursion\", \"f\", \"fire\", \"firing\", \"follow\", \"for\", \"for\", \"found\", \"from\", \"from\", \"good\", \"got\", \"great\", \"have\", \"head\", \"heart\", \"here\", \"hotel\", \"how\", \"how\", \"hypocrisy\", \"i\", \"i\", \"if\", \"in\", \"in\", \"in\", \"in\", \"international\", \"international\", \"is\", \"is\", \"island\", \"isolated\", \"it\", \"it\", \"its\", \"its\", \"its\", \"japan\", \"joint\", \"just\", \"king\", \"latest\", \"leader\", \"letter\", \"li\", \"live\", \"long\", \"massage\", \"matter\", \"maybe\", \"maybe\", \"me\", \"military\", \"missile\", \"more\", \"morning\", \"must\", \"my\", \"name\", \"nancy\", \"near\", \"need\", \"new\", \"news\", \"no\", \"no\", \"not\", \"not\", \"of\", \"of\", \"of\", \"of\", \"off\", \"on\", \"on\", \"on\", \"open\", \"or\", \"out\", \"p\", \"panda\", \"part\", \"peace\", \"people\", \"pink\", \"president\", \"production\", \"province\", \"radio\", \"rally\", \"ready\", \"regional\", \"research\", \"s\", \"s\", \"s\", \"said\", \"should\", \"show\", \"small\", \"so\", \"solidarity\", \"speaker\", \"speech\", \"story\", \"strait\", \"summer\", \"supporting\", \"t\", \"t\", \"that\", \"that\", \"the\", \"the\", \"the\", \"theater\", \"there\", \"these\", \"think\", \"think\", \"this\", \"this\", \"this\", \"time\", \"time\", \"times\", \"to\", \"to\", \"to\", \"today\", \"too\", \"travel\", \"trip\", \"true\", \"u\", \"us\", \"us\", \"us\", \"via\", \"via\", \"video\", \"visit\", \"want\", \"war\", \"was\", \"watch\", \"watch\", \"we\", \"we\", \"week\", \"what\", \"why\", \"win\", \"wise\", \"with\", \"word\", \"world\", \"world\", \"ww3\", \"x\", \"yell\", \"you\", \"your\", \"\\u2019\", \"\\u2019\", \"\\u201c\", \"\\u201d\", \"\\u2026\", \"\\u2026\", \"\\u2026\", \"\\u2026\", \"\\u2066\\u2069\", \"\\u27a1\\ufe0f\", \"\\ud83c\\udde8\\ud83c\\uddf3\", \"\\ud83c\\uddec\\ud83c\\uddf7\", \"\\ud83c\\uddf9\\ud83c\\uddfc\", \"\\ud83d\\udc49\", \"\\ud83e\\udd17\"]}, \"R\": 30, \"lambda.step\": 0.01, \"plot.opts\": {\"xlab\": \"PC1\", \"ylab\": \"PC2\"}, \"topic.order\": [1, 2, 5, 4, 3]};\n",
       "\n",
       "function LDAvis_load_lib(url, callback){\n",
       "  var s = document.createElement('script');\n",
       "  s.src = url;\n",
       "  s.async = true;\n",
       "  s.onreadystatechange = s.onload = callback;\n",
       "  s.onerror = function(){console.warn(\"failed to load library \" + url);};\n",
       "  document.getElementsByTagName(\"head\")[0].appendChild(s);\n",
       "}\n",
       "\n",
       "if(typeof(LDAvis) !== \"undefined\"){\n",
       "   // already loaded: just create the visualization\n",
       "   !function(LDAvis){\n",
       "       new LDAvis(\"#\" + \"ldavis_el2378414041564483209814267830\", ldavis_el2378414041564483209814267830_data);\n",
       "   }(LDAvis);\n",
       "}else if(typeof define === \"function\" && define.amd){\n",
       "   // require.js is available: use it to load d3/LDAvis\n",
       "   require.config({paths: {d3: \"https://d3js.org/d3.v5\"}});\n",
       "   require([\"d3\"], function(d3){\n",
       "      window.d3 = d3;\n",
       "      LDAvis_load_lib(\"https://cdn.jsdelivr.net/gh/bmabey/pyLDAvis@3.3.1/pyLDAvis/js/ldavis.v3.0.0.js\", function(){\n",
       "        new LDAvis(\"#\" + \"ldavis_el2378414041564483209814267830\", ldavis_el2378414041564483209814267830_data);\n",
       "      });\n",
       "    });\n",
       "}else{\n",
       "    // require.js not available: dynamically load d3 & LDAvis\n",
       "    LDAvis_load_lib(\"https://d3js.org/d3.v5.js\", function(){\n",
       "         LDAvis_load_lib(\"https://cdn.jsdelivr.net/gh/bmabey/pyLDAvis@3.3.1/pyLDAvis/js/ldavis.v3.0.0.js\", function(){\n",
       "                 new LDAvis(\"#\" + \"ldavis_el2378414041564483209814267830\", ldavis_el2378414041564483209814267830_data);\n",
       "            })\n",
       "         });\n",
       "}\n",
       "</script>"
      ],
      "text/plain": [
       "PreparedData(topic_coordinates=              x         y  topics  cluster       Freq\n",
       "topic                                                \n",
       "0     -0.036328  0.050135       1        1  40.594876\n",
       "1     -0.196410 -0.068984       2        1  17.024491\n",
       "4     -0.168992  0.116625       3        1  16.325514\n",
       "3      0.259526  0.186538       4        1  14.038871\n",
       "2      0.142203 -0.284315       5        1  12.016248, topic_info=        Term        Freq       Total Category  logprob  loglift\n",
       "31        on  675.000000  675.000000  Default  30.0000  30.0000\n",
       "11     china  926.000000  926.000000  Default  29.0000  29.0000\n",
       "9          a  530.000000  530.000000  Default  28.0000  28.0000\n",
       "413  missile  320.000000  320.000000  Default  27.0000  27.0000\n",
       "131        s  775.000000  775.000000  Default  26.0000  26.0000\n",
       "..       ...         ...         ...      ...      ...      ...\n",
       "27         …   56.767040  230.684480   Topic5  -3.9867   0.7168\n",
       "11     china   77.566183  926.605662   Topic5  -3.6745  -0.3615\n",
       "48     after   20.783593   29.302799   Topic5  -4.9915   1.7754\n",
       "31        on   43.629708  675.291805   Topic5  -4.2499  -0.6205\n",
       "57        in   32.943783  504.784318   Topic5  -4.5309  -0.6104\n",
       "\n",
       "[245 rows x 6 columns], token_table=      Topic      Freq  Term\n",
       "term                       \n",
       "45        4  0.429547     1\n",
       "45        5  0.490911     1\n",
       "764       2  0.968131  2022\n",
       "414       1  0.985724     3\n",
       "113       4  0.947041     4\n",
       "...     ...       ...   ...\n",
       "587       2  0.985353    🇨🇳\n",
       "34        5  0.954204    🇬🇷\n",
       "453       2  0.991130    🇹🇼\n",
       "35        5  0.976176     👉\n",
       "1093      5  0.987914     🤗\n",
       "\n",
       "[244 rows x 3 columns], R=30, lambda_step=0.01, plot_opts={'xlab': 'PC1', 'ylab': 'PC2'}, topic_order=[1, 2, 5, 4, 3])"
      ]
     },
     "execution_count": 59,
     "metadata": {},
     "output_type": "execute_result"
    }
   ],
   "source": [
    "import pyLDAvis.gensim_models as gensimvis\n",
    "import pickle \n",
    "import pyLDAvis\n",
    "# Visualize the topics\n",
    "pyLDAvis.enable_notebook()\n",
    "\n",
    "LDAvis_prepared = gensimvis.prepare(lda_model, corpus, id2word)\n",
    "LDAvis_prepared"
   ]
  },
  {
   "cell_type": "code",
   "execution_count": null,
   "id": "7d813dcb",
   "metadata": {},
   "outputs": [],
   "source": []
  },
  {
   "cell_type": "markdown",
   "id": "a261d72b",
   "metadata": {},
   "source": [
    "## Sentiment Analysis"
   ]
  },
  {
   "cell_type": "code",
   "execution_count": 40,
   "id": "6a5366eb",
   "metadata": {},
   "outputs": [],
   "source": [
    "# importing \n",
    "import numpy as np \n",
    "import matplotlib.pyplot as plt\n",
    "import seaborn as sns\n",
    "%matplotlib inline"
   ]
  },
  {
   "cell_type": "code",
   "execution_count": 41,
   "id": "f7d98b9b",
   "metadata": {},
   "outputs": [],
   "source": [
    "# adding sentiment columne "
   ]
  },
  {
   "cell_type": "code",
   "execution_count": 42,
   "id": "d53e4ba2",
   "metadata": {
    "scrolled": false
   },
   "outputs": [
    {
     "data": {
      "text/html": [
       "<div>\n",
       "<style scoped>\n",
       "    .dataframe tbody tr th:only-of-type {\n",
       "        vertical-align: middle;\n",
       "    }\n",
       "\n",
       "    .dataframe tbody tr th {\n",
       "        vertical-align: top;\n",
       "    }\n",
       "\n",
       "    .dataframe thead th {\n",
       "        text-align: right;\n",
       "    }\n",
       "</style>\n",
       "<table border=\"1\" class=\"dataframe\">\n",
       "  <thead>\n",
       "    <tr style=\"text-align: right;\">\n",
       "      <th></th>\n",
       "      <th>created_at</th>\n",
       "      <th>source</th>\n",
       "      <th>original_text</th>\n",
       "      <th>subjectivity</th>\n",
       "      <th>polarity</th>\n",
       "      <th>lang</th>\n",
       "      <th>favorite_count</th>\n",
       "      <th>retweet_count</th>\n",
       "      <th>original_author</th>\n",
       "      <th>followers_count</th>\n",
       "      <th>friends_count</th>\n",
       "      <th>possibly_sensitive</th>\n",
       "      <th>hashtags</th>\n",
       "      <th>user_mentions</th>\n",
       "      <th>place</th>\n",
       "      <th>clean_text</th>\n",
       "    </tr>\n",
       "  </thead>\n",
       "  <tbody>\n",
       "    <tr>\n",
       "      <th>5</th>\n",
       "      <td>2022-08-07 22:31:02+00:00</td>\n",
       "      <td>&lt;a href=\"http://twitter.com/download/android\" ...</td>\n",
       "      <td>RT @benedictrogers: We must not let this happe...</td>\n",
       "      <td>0.5</td>\n",
       "      <td>0.2</td>\n",
       "      <td>en</td>\n",
       "      <td>116</td>\n",
       "      <td>36</td>\n",
       "      <td>GraceCh15554845</td>\n",
       "      <td>207</td>\n",
       "      <td>54</td>\n",
       "      <td>False</td>\n",
       "      <td>Taiwan</td>\n",
       "      <td>benedictrogers</td>\n",
       "      <td>Melbourne, Victoria</td>\n",
       "      <td>we must not let this happen  we must be ready...</td>\n",
       "    </tr>\n",
       "  </tbody>\n",
       "</table>\n",
       "</div>"
      ],
      "text/plain": [
       "                 created_at  \\\n",
       "5 2022-08-07 22:31:02+00:00   \n",
       "\n",
       "                                              source  \\\n",
       "5  <a href=\"http://twitter.com/download/android\" ...   \n",
       "\n",
       "                                       original_text  subjectivity  polarity  \\\n",
       "5  RT @benedictrogers: We must not let this happe...           0.5       0.2   \n",
       "\n",
       "  lang  favorite_count  retweet_count  original_author  followers_count  \\\n",
       "5   en             116             36  GraceCh15554845              207   \n",
       "\n",
       "   friends_count possibly_sensitive hashtags   user_mentions  \\\n",
       "5             54              False   Taiwan  benedictrogers   \n",
       "\n",
       "                 place                                         clean_text  \n",
       "5  Melbourne, Victoria   we must not let this happen  we must be ready...  "
      ]
     },
     "execution_count": 42,
     "metadata": {},
     "output_type": "execute_result"
    }
   ],
   "source": [
    "df2.head(1)"
   ]
  },
  {
   "cell_type": "code",
   "execution_count": 72,
   "id": "4523632c",
   "metadata": {},
   "outputs": [],
   "source": [
    "# adding sentiment \n",
    "df2.insert(1,column = 'sentiment',value = \"\")\n",
    "#df2.insert(4,column = 'sentiment',value = df2[''])"
   ]
  },
  {
   "cell_type": "code",
   "execution_count": 78,
   "id": "21c3e86e",
   "metadata": {},
   "outputs": [],
   "source": [
    "def text_category (polarity):\n",
    "    if polarity > 0:\n",
    "        return 'positive'\n",
    "    if polarity < 0:\n",
    "        return 'negative'\n",
    "    else:\n",
    "        return 'neutral'"
   ]
  },
  {
   "cell_type": "code",
   "execution_count": 79,
   "id": "870cc9d5",
   "metadata": {},
   "outputs": [
    {
     "name": "stdout",
     "output_type": "stream",
     "text": [
      "sucees\n"
     ]
    }
   ],
   "source": [
    "score= pd.Series([text_category(row_value) for row_value in df2['polarity']])\n",
    "print(\"sucees\")\n",
    "df2 = pd.concat([df2, score.rename('sentiment')], axis=1)\n"
   ]
  },
  {
   "cell_type": "code",
   "execution_count": 87,
   "id": "2d56e4eb",
   "metadata": {},
   "outputs": [
    {
     "name": "stdout",
     "output_type": "stream",
     "text": [
      "<class 'pandas.core.frame.DataFrame'>\n",
      "Int64Index: 5494 entries, 5 to 3797\n",
      "Data columns (total 17 columns):\n",
      " #   Column              Non-Null Count  Dtype              \n",
      "---  ------              --------------  -----              \n",
      " 0   created_at          1976 non-null   datetime64[ns, UTC]\n",
      " 1   source              1976 non-null   object             \n",
      " 2   original_text       1976 non-null   object             \n",
      " 3   subjectivity        1976 non-null   float64            \n",
      " 4   polarity            1976 non-null   float64            \n",
      " 5   lang                1976 non-null   object             \n",
      " 6   favorite_count      1976 non-null   float64            \n",
      " 7   retweet_count       1976 non-null   float64            \n",
      " 8   original_author     1976 non-null   object             \n",
      " 9   followers_count     1976 non-null   float64            \n",
      " 10  friends_count       1976 non-null   float64            \n",
      " 11  possibly_sensitive  1976 non-null   object             \n",
      " 12  hashtags            1976 non-null   object             \n",
      " 13  user_mentions       1976 non-null   object             \n",
      " 14  place               1976 non-null   object             \n",
      " 15  clean_text          1976 non-null   object             \n",
      " 16  sentiment           3799 non-null   object             \n",
      "dtypes: datetime64[ns, UTC](1), float64(6), object(10)\n",
      "memory usage: 772.6+ KB\n"
     ]
    }
   ],
   "source": [
    "df2.info()"
   ]
  },
  {
   "cell_type": "code",
   "execution_count": 118,
   "id": "77c1d717",
   "metadata": {},
   "outputs": [],
   "source": [
    "#df2.dropna(inplace = True)\n"
   ]
  },
  {
   "cell_type": "code",
   "execution_count": 119,
   "id": "1606636d",
   "metadata": {},
   "outputs": [],
   "source": [
    "# Selecting the feature and the label\n",
    "features = df2.iloc[:, 15].values\n",
    "labels = df2.iloc[:, 16].values"
   ]
  },
  {
   "cell_type": "code",
   "execution_count": 121,
   "id": "d96c136f",
   "metadata": {},
   "outputs": [],
   "source": [
    "#print(features)"
   ]
  },
  {
   "cell_type": "code",
   "execution_count": 122,
   "id": "8c4b23f2",
   "metadata": {},
   "outputs": [],
   "source": [
    "#Data Cleaning using regular expression\n",
    "processed_features = []\n",
    "\n",
    "for sentence in range(0, len(features)):\n",
    "    # Remove all the special characters\n",
    "    processed_feature = re.sub(r'\\W', ' ', str(features[sentence]))\n",
    "\n",
    "    # remove all single characters\n",
    "    processed_feature= re.sub(r'\\s+[a-zA-Z]\\s+', ' ', processed_feature)\n",
    "\n",
    "    # Remove single characters from the start\n",
    "    processed_feature = re.sub(r'\\^[a-zA-Z]\\s+', ' ', processed_feature) \n",
    "\n",
    "    # Substituting multiple spaces with single space\n",
    "    processed_feature = re.sub(r'\\s+', ' ', processed_feature, flags=re.I)\n",
    "\n",
    "    # Removing prefixed 'b'\n",
    "    processed_feature = re.sub(r'^b\\s+', '', processed_feature)\n",
    "\n",
    "    # Converting to Lowercase\n",
    "    processed_feature = processed_feature.lower()\n",
    "\n",
    "    processed_features.append(processed_feature)"
   ]
  },
  {
   "cell_type": "code",
   "execution_count": 62,
   "id": "dde2866a",
   "metadata": {
    "scrolled": true
   },
   "outputs": [],
   "source": [
    "import nltk\n",
    "nltk.download('stopwords')"
   ]
  },
  {
   "cell_type": "code",
   "execution_count": 123,
   "id": "1c466be6",
   "metadata": {},
   "outputs": [],
   "source": [
    "from nltk.corpus import stopwords\n",
    "from sklearn.feature_extraction.text import TfidfVectorizer\n",
    "\n",
    "vectorizer = TfidfVectorizer (max_features=2500, min_df=7, max_df=0.8, stop_words=stopwords.words('english'))\n",
    "processed_features_vectorized = vectorizer.fit_transform(processed_features).toarray()"
   ]
  },
  {
   "cell_type": "code",
   "execution_count": 124,
   "id": "f01b36dd",
   "metadata": {},
   "outputs": [],
   "source": [
    "# split\n",
    "from sklearn.model_selection import train_test_split\n",
    "\n",
    "X_train, X_test, y_train, y_test = train_test_split(processed_features_vectorized, labels, test_size=0.2, random_state=0)"
   ]
  },
  {
   "cell_type": "code",
   "execution_count": 126,
   "id": "e5b50845",
   "metadata": {
    "scrolled": true
   },
   "outputs": [
    {
     "data": {
      "text/plain": [
       "RandomForestClassifier(n_estimators=200, random_state=0)"
      ]
     },
     "execution_count": 126,
     "metadata": {},
     "output_type": "execute_result"
    }
   ],
   "source": [
    "# training \n",
    "from sklearn.ensemble import RandomForestClassifier\n",
    "\n",
    "text_classifier = RandomForestClassifier(n_estimators=200, random_state=0)\n",
    "text_classifier.fit(X_train, y_train)"
   ]
  },
  {
   "cell_type": "code",
   "execution_count": 127,
   "id": "baa010c1",
   "metadata": {},
   "outputs": [],
   "source": [
    "#prediction\n",
    "predictions = text_classifier.predict(X_test)"
   ]
  },
  {
   "cell_type": "code",
   "execution_count": 128,
   "id": "6d9e024d",
   "metadata": {
    "scrolled": true
   },
   "outputs": [
    {
     "data": {
      "text/plain": [
       "array(['neutral', 'neutral', 'neutral', 'negative', 'neutral', 'neutral',\n",
       "       'neutral', 'positive', 'neutral', 'neutral'], dtype=object)"
      ]
     },
     "execution_count": 128,
     "metadata": {},
     "output_type": "execute_result"
    }
   ],
   "source": [
    "predictions[:10]"
   ]
  },
  {
   "cell_type": "code",
   "execution_count": 129,
   "id": "e069f636",
   "metadata": {},
   "outputs": [
    {
     "name": "stdout",
     "output_type": "stream",
     "text": [
      "0.6140350877192983\n"
     ]
    }
   ],
   "source": [
    "from sklearn.metrics import accuracy_score\n",
    "\n",
    "print(accuracy_score(y_test, predictions))"
   ]
  }
 ],
 "metadata": {
  "kernelspec": {
   "display_name": "Python 3",
   "language": "python",
   "name": "python3"
  },
  "language_info": {
   "codemirror_mode": {
    "name": "ipython",
    "version": 3
   },
   "file_extension": ".py",
   "mimetype": "text/x-python",
   "name": "python",
   "nbconvert_exporter": "python",
   "pygments_lexer": "ipython3",
   "version": "3.8.8"
  }
 },
 "nbformat": 4,
 "nbformat_minor": 5
}
